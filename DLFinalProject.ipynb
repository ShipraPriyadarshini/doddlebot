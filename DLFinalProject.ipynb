{
  "cells": [
    {
      "cell_type": "code",
      "execution_count": 3,
      "metadata": {
        "colab": {
          "base_uri": "https://localhost:8080/"
        },
        "id": "eqNE_GF_Oxzq",
        "outputId": "109359d1-7698-4c76-d81c-669aa76c7a22"
      },
      "outputs": [
        {
          "name": "stdout",
          "output_type": "stream",
          "text": [
            "Collecting ijson\n",
            "  Downloading ijson-3.1.4-cp37-cp37m-manylinux2010_x86_64.whl (126 kB)\n",
            "\u001b[?25l\r\u001b[K     |██▋                             | 10 kB 22.9 MB/s eta 0:00:01\r\u001b[K     |█████▏                          | 20 kB 13.7 MB/s eta 0:00:01\r\u001b[K     |███████▉                        | 30 kB 7.2 MB/s eta 0:00:01\r\u001b[K     |██████████▍                     | 40 kB 9.1 MB/s eta 0:00:01\r\u001b[K     |█████████████                   | 51 kB 4.8 MB/s eta 0:00:01\r\u001b[K     |███████████████▋                | 61 kB 5.6 MB/s eta 0:00:01\r\u001b[K     |██████████████████▏             | 71 kB 5.6 MB/s eta 0:00:01\r\u001b[K     |████████████████████▊           | 81 kB 4.2 MB/s eta 0:00:01\r\u001b[K     |███████████████████████▍        | 92 kB 4.6 MB/s eta 0:00:01\r\u001b[K     |██████████████████████████      | 102 kB 5.1 MB/s eta 0:00:01\r\u001b[K     |████████████████████████████▌   | 112 kB 5.1 MB/s eta 0:00:01\r\u001b[K     |███████████████████████████████▏| 122 kB 5.1 MB/s eta 0:00:01\r\u001b[K     |████████████████████████████████| 126 kB 5.1 MB/s \n",
            "\u001b[?25hInstalling collected packages: ijson\n",
            "Successfully installed ijson-3.1.4\n",
            "Collecting tensorflow-addons\n",
            "  Downloading tensorflow_addons-0.16.1-cp37-cp37m-manylinux_2_12_x86_64.manylinux2010_x86_64.whl (1.1 MB)\n",
            "\u001b[K     |████████████████████████████████| 1.1 MB 5.0 MB/s \n",
            "\u001b[?25hRequirement already satisfied: typeguard>=2.7 in /usr/local/lib/python3.7/dist-packages (from tensorflow-addons) (2.7.1)\n",
            "Installing collected packages: tensorflow-addons\n",
            "Successfully installed tensorflow-addons-0.16.1\n"
          ]
        }
      ],
      "source": [
        "!pip install ijson\n",
        "!pip install tensorflow-addons"
      ]
    },
    {
      "cell_type": "code",
      "execution_count": 4,
      "metadata": {
        "id": "ETEqz6wDssA5"
      },
      "outputs": [],
      "source": [
        "import ijson\n",
        "import json\n",
        "import numpy as np\n",
        "import tensorflow as tf\n",
        "import tensorflow_addons as tfa\n",
        "import random\n",
        "import math\n",
        "from contextlib import contextmanager\n",
        "import codecs\n",
        "import matplotlib\n",
        "import matplotlib.pyplot as plt\n",
        "import numpy.ma as ma\n",
        "from tensorflow import keras as K\n",
        "import importlib\n",
        "from tqdm import tqdm, trange\n",
        "import os\n",
        "import sys\n",
        "import math\n",
        "import time"
      ]
    },
    {
      "cell_type": "code",
      "execution_count": 5,
      "metadata": {
        "colab": {
          "base_uri": "https://localhost:8080/"
        },
        "id": "21iFKgQBs0nC",
        "outputId": "33c630e3-0007-494b-aa6f-cba6aef7858e"
      },
      "outputs": [
        {
          "name": "stdout",
          "output_type": "stream",
          "text": [
            "/bin/bash: line 0: cd: Decoder-SketchRNN: No such file or directory\n",
            "Cloning into 'Decoder-SketchRNN'...\n",
            "remote: Enumerating objects: 140, done.\u001b[K\n",
            "remote: Counting objects: 100% (63/63), done.\u001b[K\n",
            "remote: Compressing objects: 100% (45/45), done.\u001b[K\n",
            "remote: Total 140 (delta 31), reused 48 (delta 18), pack-reused 77\u001b[K\n",
            "Receiving objects: 100% (140/140), 14.29 MiB | 28.53 MiB/s, done.\n",
            "Resolving deltas: 100% (64/64), done.\n",
            "Mounted at /content/drive\n"
          ]
        }
      ],
      "source": [
        "!if cd Decoder-SketchRNN; then git pull; else git clone https://github.com/salbrandi/Decoder-SketchRNN.git; fi\n",
        "\n",
        "sys.path.append('/content/Decoder-SketchRNN')\n",
        "\n",
        "from sketchrnn import models, dataset, utils\n",
        "\n",
        "\n",
        "from google.colab import drive\n",
        "drive.mount('/content/drive')"
      ]
    },
    {
      "cell_type": "code",
      "execution_count": 6,
      "metadata": {
        "colab": {
          "base_uri": "https://localhost:8080/",
          "height": 71
        },
        "id": "m9eMhu4xsID7",
        "outputId": "e7817d24-54d8-43d3-e413-d2fd79b69b63"
      },
      "outputs": [
        {
          "data": {
            "application/vnd.google.colaboratory.intrinsic+json": {
              "type": "string"
            },
            "text/plain": [
              "'\\nInput: Phrase from region_descriptions.json (individual words)\\nOutput: Senetence Embedding \\n\\nPart 1:\\n- tuple of image_id and phrase from region_descriptions.json\\n\\nPart 2:\\n- Get corresponding bounding boxes for objects in that region/phrase\\n\\nPart 3:\\n- Preprocess the phrases into tokens\\n\\nPart 4:\\n- Using GLOVE embeddings to convert tokens to embeddings\\n'"
            ]
          },
          "execution_count": 6,
          "metadata": {},
          "output_type": "execute_result"
        }
      ],
      "source": [
        "# INPUTS PREPROCESSING\n",
        "'''\n",
        "Input: Phrase from region_descriptions.json (individual words)\n",
        "Output: Senetence Embedding \n",
        "\n",
        "Part 1:\n",
        "- tuple of image_id and phrase from region_descriptions.json\n",
        "\n",
        "Part 2:\n",
        "- Get corresponding bounding boxes for objects in that region/phrase\n",
        "\n",
        "Part 3:\n",
        "- Preprocess the phrases into tokens\n",
        "\n",
        "Part 4:\n",
        "- Using GLOVE embeddings to convert tokens to embeddings\n",
        "'''"
      ]
    },
    {
      "cell_type": "code",
      "execution_count": 7,
      "metadata": {
        "id": "jg_tp0XuBfSd"
      },
      "outputs": [],
      "source": [
        "f = open('/content/drive/MyDrive/DL Project/image_data.json')\n",
        "image_data = json.load(f)\n"
      ]
    },
    {
      "cell_type": "code",
      "execution_count": 8,
      "metadata": {
        "id": "TZeTnkLvB5yh"
      },
      "outputs": [],
      "source": [
        "wh_dict = {}\n",
        "for i in range(len(image_data)):\n",
        "  wh_dict[image_data[i]['image_id']] = [image_data[i]['width'], image_data[i]['height']]"
      ]
    },
    {
      "cell_type": "code",
      "execution_count": 9,
      "metadata": {
        "colab": {
          "base_uri": "https://localhost:8080/"
        },
        "id": "ooyoZyATasHc",
        "outputId": "91ce3894-45b3-4d45-a8be-e5ce38428352"
      },
      "outputs": [
        {
          "name": "stderr",
          "output_type": "stream",
          "text": [
            "IOPub data rate exceeded.\n",
            "The notebook server will temporarily stop sending output\n",
            "to the client in order to avoid crashing it.\n",
            "To change this limit, set the config variable\n",
            "`--NotebookApp.iopub_data_rate_limit`.\n",
            "\n",
            "Current values:\n",
            "NotebookApp.iopub_data_rate_limit=1000000.0 (bytes/sec)\n",
            "NotebookApp.rate_limit_window=3.0 (secs)\n",
            "\n"
          ]
        }
      ],
      "source": [
        "# Part 1: Optimized (RAM issues)\n",
        "label_map = []\n",
        "enc_inputs = []\n",
        "name_syn = {}\n",
        "\n",
        "with open(\"/content/drive/MyDrive/DL Project/region_graphs.json\", \"r\") as f:\n",
        "    count = 0\n",
        "    #objt = []\n",
        "    synsets = []\n",
        "    for record in ijson.items(f, \"item\"):\n",
        "        if count==5000:\n",
        "          break\n",
        "        image_id = record[\"image_id\"]\n",
        "        width = wh_dict[image_id][0]\n",
        "        height = wh_dict[image_id][1]\n",
        "        for j in range(7): #len(record[\"regions\"])):\n",
        "          phrase = record[\"regions\"][j][\"phrase\"]\n",
        "          region_id = record[\"regions\"][j][\"region_id\"]\n",
        "          obj = {}\n",
        "          name2syn = {}\n",
        "          for o in range(len(record[\"regions\"][j][\"objects\"])):\n",
        "            if record[\"regions\"][j][\"objects\"][o][\"synsets\"]:\n",
        "              name2syn[record[\"regions\"][j][\"objects\"][o][\"name\"]] = record[\"regions\"][j][\"objects\"][o][\"synsets\"][0]\n",
        "              name_syn[record[\"regions\"][j][\"objects\"][o][\"name\"]] = record[\"regions\"][j][\"objects\"][o][\"synsets\"][0]\n",
        "            else:\n",
        "              name2syn[record[\"regions\"][j][\"objects\"][o][\"name\"]] = record[\"regions\"][j][\"objects\"][o][\"name\"]\n",
        "              name_syn[record[\"regions\"][j][\"objects\"][o][\"name\"]] = record[\"regions\"][j][\"objects\"][o][\"name\"]\n",
        "\n",
        "\n",
        "            x_min = record[\"regions\"][j][\"objects\"][o][\"x\"]/width\n",
        "            y_min = record[\"regions\"][j][\"objects\"][o][\"y\"]/height\n",
        "            x_max = (x_min + record[\"regions\"][j][\"objects\"][o][\"w\"])/width\n",
        "            y_max = (y_min + record[\"regions\"][j][\"objects\"][o][\"h\"])/height\n",
        "            #obj[name2syn[record[\"regions\"][j][\"objects\"][o][\"name\"]]] = [x_min,y_min,x_max,y_max]\n",
        "            obj[name2syn[record[\"regions\"][j][\"objects\"][o][\"name\"]]] = [y_min,x_min,y_max,x_max]\n",
        "            #objt.append(record[\"regions\"][j][\"objects\"][o]['object_id'])\n",
        "            synsets.append(name2syn[record[\"regions\"][j][\"objects\"][o][\"name\"]])\n",
        "\n",
        "\n",
        "          input = (image_id, region_id, phrase, obj, name2syn)\n",
        "          label_map.append(input)\n",
        "          enc_inputs.append(phrase)\n",
        "          #dec_inputs.append(obj.values())\n",
        "          \n",
        "        count+=1\n",
        "\n",
        "vocab = list(set(synsets))\n",
        "vocab.append('no object')\n",
        "\n",
        "\n",
        "print(label_map)\n",
        "#print(enc_inputs)\n",
        "#print(dec_inputs)\n",
        "#print(name_syn)\n",
        "#print(vocab)\n",
        "\n",
        "VOCAB_SIZE = len(vocab)"
      ]
    },
    {
      "cell_type": "code",
      "execution_count": 10,
      "metadata": {
        "id": "ehDcza-46B9o"
      },
      "outputs": [],
      "source": [
        "# Part 3: Preprocess the phrases into tokens\n",
        "def word_ind(sentences,vocab, name2syn):\n",
        "  class_map = {}\n",
        "  map = {}\n",
        "  ulta_map = {}\n",
        "  ulta_class = {}\n",
        "  idx = 1\n",
        "  class_id = 1\n",
        "  for i in range(len(sentences)):\n",
        "    words = sentences[i].split(\" \")\n",
        "    for j in words:\n",
        "      if j not in map:\n",
        "        map[j] = idx\n",
        "        ulta_map[idx] = j\n",
        "        idx+=1\n",
        "      if j in name2syn and name2syn[j] in vocab:\n",
        "        if name2syn[j] not in class_map:\n",
        "          class_map[name2syn[j]] = class_id\n",
        "          ulta_class[class_id] = name2syn[j]\n",
        "          class_id+=1\n",
        "      else:\n",
        "          class_map[j] = 0\n",
        "\n",
        "  return map, ulta_map, class_map, ulta_class\n",
        "\n",
        "\n",
        "word_map, idx_map, class_map, ulta_class = word_ind(enc_inputs,vocab, name_syn)\n",
        "\n",
        "\n",
        "enc_inputs = [sub.split(\" \") for sub in enc_inputs]\n",
        "\n",
        "for i in range(len(enc_inputs)):\n",
        "  for j in range(len(enc_inputs[i])):\n",
        "    enc_inputs[i][j] = word_map[enc_inputs[i][j]]\n",
        "\n"
      ]
    },
    {
      "cell_type": "code",
      "execution_count": 11,
      "metadata": {
        "id": "5WWMDiVobo09"
      },
      "outputs": [],
      "source": [
        "idx_map[0] = 'UNK'\n",
        "ulta_class[0] = 'no object'\n",
        "class_map['UNK'] = 0"
      ]
    },
    {
      "cell_type": "code",
      "execution_count": 12,
      "metadata": {
        "id": "TdMxMbZMT9Wa"
      },
      "outputs": [],
      "source": [
        "#Padding the input sentences that are in integer form \n",
        "enc_inputs = tf.keras.preprocessing.sequence.pad_sequences(enc_inputs, padding=\"post\")\n",
        "class_labels = np.zeros((35000,enc_inputs.shape[1]))\n",
        "\n",
        "for i in range(len(enc_inputs)):\n",
        "  for j in range(len(enc_inputs[i])):\n",
        "    if idx_map[enc_inputs[i][j]] in name_syn:\n",
        "      class_labels[i][j] = class_map[name_syn[idx_map[enc_inputs[i][j]]]]\n",
        "    else:\n",
        "      class_labels[i][j] = class_map[idx_map[enc_inputs[i][j]]]\n",
        "\n",
        "#print(class_labels[:100])\n",
        "#print(len(class_labels[0]))\n"
      ]
    },
    {
      "cell_type": "code",
      "execution_count": 13,
      "metadata": {
        "colab": {
          "base_uri": "https://localhost:8080/"
        },
        "id": "QrVHJ4EHgGcl",
        "outputId": "74d235ff-e1a7-4bb0-90ba-68fbe3b07853"
      },
      "outputs": [
        {
          "name": "stdout",
          "output_type": "stream",
          "text": [
            "[[0.         0.         0.         0.        ]\n",
            " [0.15166667 0.52625    0.56525278 0.09940781]\n",
            " [0.         0.         0.         0.        ]\n",
            " [0.         0.         0.         0.        ]\n",
            " [0.         0.         0.         0.        ]\n",
            " [0.         0.         0.         0.        ]\n",
            " [0.         0.         0.         0.        ]\n",
            " [0.         0.         0.         0.        ]\n",
            " [0.         0.         0.         0.        ]\n",
            " [0.         0.         0.         0.        ]\n",
            " [0.         0.         0.         0.        ]\n",
            " [0.         0.         0.         0.        ]\n",
            " [0.         0.         0.         0.        ]\n",
            " [0.         0.         0.         0.        ]\n",
            " [0.         0.         0.         0.        ]\n",
            " [0.         0.         0.         0.        ]\n",
            " [0.         0.         0.         0.        ]\n",
            " [0.         0.         0.         0.        ]\n",
            " [0.         0.         0.         0.        ]\n",
            " [0.         0.         0.         0.        ]]\n"
          ]
        }
      ],
      "source": [
        "labels = np.zeros((len(enc_inputs),enc_inputs.shape[1], 4))#*-1\n",
        "\n",
        "for i in range(len(enc_inputs)):\n",
        "  for j in range(enc_inputs.shape[1]):\n",
        "    name = idx_map[enc_inputs[i][j]]\n",
        "    \n",
        "    if name not in label_map[i][4]:\n",
        "      continue\n",
        "    \n",
        "    class_label = label_map[i][4][name]\n",
        "    labels[i][j] = label_map[i][3][class_label]\n",
        "\n",
        "print(labels[0])"
      ]
    },
    {
      "cell_type": "code",
      "execution_count": 14,
      "metadata": {
        "colab": {
          "base_uri": "https://localhost:8080/"
        },
        "id": "w_TQoc7dKPJF",
        "outputId": "c80bc32f-c371-4606-a3cd-65d130d5eb4d"
      },
      "outputs": [
        {
          "name": "stdout",
          "output_type": "stream",
          "text": [
            "Loading Glove Model\n",
            "400000 words loaded!\n"
          ]
        }
      ],
      "source": [
        "def load_glove_model(File):\n",
        "    print(\"Loading Glove Model\")\n",
        "    glove_model = {}\n",
        "    with open(File,'r') as f:\n",
        "        for line in f:\n",
        "            split_line = line.split()\n",
        "            word = split_line[0]\n",
        "            embedding = np.array(split_line[1:], dtype=np.float64)\n",
        "            glove_model[word] = embedding\n",
        "    print(f\"{len(glove_model)} words loaded!\")\n",
        "    return glove_model\n",
        "\n",
        "embedd = load_glove_model('/content/drive/MyDrive/DL Project/glove.6B/glove.6B.200d.txt')"
      ]
    },
    {
      "cell_type": "code",
      "execution_count": 15,
      "metadata": {
        "id": "fbfm7PAJPrnt"
      },
      "outputs": [],
      "source": [
        "def get_w2v(sentence, model, idx_map):\n",
        "    \"\"\"\n",
        "    :param sentence: inputs a single sentences whose word embedding is to be extracted.\n",
        "    :param model: inputs glove model.\n",
        "    :return: returns numpy array containing word embedding of all words in input sentence.\n",
        "    \"\"\"\n",
        "    return np.array([model.get(idx_map[val], np.zeros(200)) for val in sentence])\n",
        "\n",
        "\n",
        "embed_sentence = np.zeros((len(enc_inputs),len(enc_inputs[0]),200))\n",
        "\n",
        "for i in range(len(enc_inputs)):\n",
        "  embed_sentence[i] = get_w2v(enc_inputs[i], embedd, idx_map)\n"
      ]
    },
    {
      "cell_type": "code",
      "execution_count": 16,
      "metadata": {
        "id": "EGm6VAWJI8vl"
      },
      "outputs": [],
      "source": [
        "\n",
        "class Singleton(type):\n",
        "    \"\"\"Metaclass for Singleton objects\n",
        "\n",
        "    From Python Cookbook, 3rd edition, by David Beazley and Brian K. Jones (O’Reilly).\n",
        "    Copyright 2013 David Beazley and Brian Jones, 978-1-449-34037-7\n",
        "    \"\"\"\n",
        "    def __init__(self, *args, **kwargs):\n",
        "        self.__instance = None\n",
        "        super().__init__(*args, **kwargs)\n",
        "\n",
        "    def __call__(self, *args, **kwargs):\n",
        "        if self.__instance is None:\n",
        "            self.__instance = super().__call__(*args, **kwargs)\n",
        "            return self.__instance\n",
        "        else:\n",
        "            return self.__instance\n",
        "\n",
        "class ReservoirSample1:\n",
        "    \"\"\"Randomly sample single item from data stream of indeterminate length\n",
        "    \n",
        "    Implementation after Algorithm L:\n",
        "    Li, Kim-Hung. \"Reservoir-sampling algorithms of time complexity O (n (1+ log (N/n))).\"\n",
        "    ACM Transactions on Mathematical Software (TOMS) 20, no. 4 (1994): 481-493.\n",
        "    \"\"\"\n",
        "    \n",
        "    def _update_s(self):\n",
        "        \"\"\"Update s based on w\"\"\"\n",
        "        self.s = int(math.log(random.random()) / math.log(1.0 - self.w))\n",
        "        \n",
        "    def __init__(self):\n",
        "        self.w = random.random()\n",
        "        self._update_s()\n",
        "        self.data = None\n",
        "        self.stepno = 1\n",
        "        self.target_step = 2 + self.s\n",
        "        self.last_data_step = None # Just for debug\n",
        "        \n",
        "    def step(self, data):\n",
        "        \"\"\"Single time-step of data stream\"\"\"\n",
        "        if self.stepno == 1:\n",
        "            self.data = data\n",
        "        elif self.stepno == self.target_step:\n",
        "            self.data = data\n",
        "            self.w = self.w * random.random()\n",
        "            self._update_s()\n",
        "            self.target_step = self.stepno + 1 + self.s\n",
        "            self.last_data_step = self.stepno # Debug\n",
        "        self.stepno += 1\n",
        "            \n",
        "\n",
        "class AttentionVis(metaclass=Singleton):\n",
        "    \"\"\"Global mechanism for saving and displaying attention-matrix visualization\n",
        "    \n",
        "    Store and later retrieve (and display) a single, randomly chosen attention matrix and\n",
        "    its corresponding English sentence from the decoder block while the \"test\"\n",
        "    operation is running.\n",
        "    \n",
        "    This class depends on the call structure (and argument order) of many stencil\n",
        "    functions being preserved. It also depends on several function decorators\n",
        "    and a \"with\" statement inside the transformer code to succesfully store and\n",
        "    retrieve its data.\n",
        "    \"\"\" \n",
        "    def __init__(self):\n",
        "        self.enabled = False # Whether visualization even runs (decided by student)\n",
        "        self.in_test = False # Shims are in the test function (as opposed to train)\n",
        "        self.in_decoder = False # Shims are in the decoder (as opposed to encoder)\n",
        "        self.rsample1 = ReservoirSample1() # Random sampling engine\n",
        "        \n",
        "        # randomly selected data within current batch\n",
        "        # shared between the different shims\n",
        "        self.cur_batch_data = { \n",
        "            \"sent_ids\": None,\n",
        "            \"att_mat\": None,\n",
        "            \"index\": None,\n",
        "        }\n",
        "        \n",
        "        # Final data for showing heat map\n",
        "        self.atten_matrix = None # The matrix itself (14x14)\n",
        "        self.sentence = None # List of the words of the sentence\n",
        "        self.rev_en_vocab = None # Reverse English vocabulary (id->word)\n",
        "\n",
        "    def _setup_atten_heatmap(self, ax):\n",
        "        \"\"\"\n",
        "        Create a heatmap from a numpy array and two lists of labels.\n",
        "    \n",
        "        This function derived from:\n",
        "        https://matplotlib.org/3.1.1/gallery/images_contours_and_fields/image_annotated_heatmap.html\n",
        "\n",
        "        ax - a \"matplotlib.axes.Axes\" instance to which the heatmap is plotted\n",
        "        \"\"\"\n",
        "        \n",
        "        data = self.atten_matrix\n",
        "        row_labels = col_labels = self.sentence\n",
        "\n",
        "        cbarlabel=\"Attention Score\"\n",
        "        cbar_kw={}\n",
        "\n",
        "        # Plot the heatmap\n",
        "        im = ax.imshow(data, cmap=\"Blues\", vmin=0.0, vmax=1.0)\n",
        "\n",
        "        # Create colorbar\n",
        "        cbar = ax.figure.colorbar(im, ax=ax, **cbar_kw)\n",
        "        cbar.ax.set_ylabel(cbarlabel, rotation=-90, va=\"bottom\")\n",
        "\n",
        "        # We want to show all ticks...\n",
        "        ax.set_xticks(np.arange(data.shape[1]))\n",
        "        ax.set_yticks(np.arange(data.shape[0]))\n",
        "        # ... and label them with the respective list entries.\n",
        "        ax.set_xticklabels(col_labels)\n",
        "        ax.set_yticklabels(row_labels)\n",
        "\n",
        "        # Let the horizontal axes labeling appear on top.\n",
        "        ax.tick_params(top=True, bottom=False,\n",
        "                       labeltop=True, labelbottom=False)\n",
        "\n",
        "        # Rotate the tick labels and set their alignment.\n",
        "        plt.setp(ax.get_xticklabels(), rotation=-30, ha=\"right\",\n",
        "                 rotation_mode=\"anchor\")\n",
        "\n",
        "        # Turn spines off and create white grid.\n",
        "        for edge, spine in ax.spines.items():\n",
        "            spine.set_visible(False)\n",
        "\n",
        "        ax.set_xticks(np.arange(data.shape[1]+1)-.5, minor=True)\n",
        "        ax.set_yticks(np.arange(data.shape[0]+1)-.5, minor=True)\n",
        "        ax.grid(which=\"minor\", color=\"w\", linestyle='-', linewidth=3)\n",
        "        ax.tick_params(which=\"minor\", bottom=False, left=False)\n",
        "\n",
        "    def setup_visualization(self, enable=False):\n",
        "        \"\"\"Allow the student to turn visualization on or off\"\"\"\n",
        "        self.enabled = enable\n",
        "\n",
        "    def show_atten_heatmap(self):\n",
        "        \"\"\"Display heatmap from saved data after test run complete\"\"\"\n",
        "        if self.enabled and self.atten_matrix is not None:\n",
        "            fig, ax = plt.subplots()\n",
        "            self._setup_atten_heatmap(ax)\n",
        "            fig.tight_layout()\n",
        "            plt.show()\n",
        "        \n",
        "    def test_func(self, func):\n",
        "        \"\"\"Shim for student's top-level test function\n",
        "        \n",
        "        Set a flag that signals to the other shims that we're inside the test function.\n",
        "        Turn off graph execution if visualization is enabled.\n",
        "        \"\"\"\n",
        "        def wrapper(*args, **kwargs):\n",
        "            if self.enabled:\n",
        "                self.in_test = True\n",
        "                # The attention visualization is not compatible with tf.function. Oops.\n",
        "                # Turn it off (but only if student requested visualizations)\n",
        "                # The good news is: this won't affect \"train\"\n",
        "                tf.config.run_functions_eagerly(True)\n",
        "            ret = func(*args, **kwargs)\n",
        "            # Save the data\n",
        "            if self.enabled and self.rsample1.data:\n",
        "                self.atten_matrix = self.rsample1.data[\"att_mat\"]\n",
        "                self.sentence = [self.rev_en_vocab[word] for word in self.rsample1.data[\"sent_ids\"]]\n",
        "                tf.config.run_functions_eagerly(False)\n",
        "                self.in_test = False\n",
        "                print(\"Collecting att matrix from batch\", self.rsample1.last_data_step)\n",
        "            return ret\n",
        "        return wrapper\n",
        "    \n",
        "    def call_func(self, func):\n",
        "        \"\"\"Shim for student's main transformer call function\n",
        "        \n",
        "        If inside the test function, pick a random decoder sentence and remember its index\n",
        "        \"\"\"\n",
        "        def wrapper(*args, **kwargs):\n",
        "            if self.enabled and self.in_test:\n",
        "                decoder_input = args[2]\n",
        "                ridx = random.randint(0, len(decoder_input)-1)\n",
        "                self.cur_batch_data[\"index\"] = ridx\n",
        "                self.cur_batch_data[\"sent_ids\"] = list(decoder_input[ridx])\n",
        "            ret = func(*args, **kwargs)\n",
        "            if self.enabled and self.in_test:\n",
        "                # Attention matrix should be collected at this point\n",
        "                self.rsample1.step(self.cur_batch_data)\n",
        "            return ret\n",
        "        return wrapper\n",
        "        \n",
        "    def att_mat_func(self, func):\n",
        "        \"\"\"Shim for student's self-attention function\n",
        "        \n",
        "        If in the test function, and this is a decoder, store the attention matrix\n",
        "        that corresponds with the saved index from the batch.\n",
        "        \"\"\"\n",
        "        def wrapper(*args, **kwargs):\n",
        "            ret = func(*args, **kwargs)\n",
        "            if self.enabled and self.in_test and self.in_decoder:\n",
        "                # The return value of this function contains the to-be-visualized\n",
        "                # attention matrix\n",
        "                self.cur_batch_data[\"att_mat\"] = ret[self.cur_batch_data[\"index\"]].numpy()\n",
        "            return ret\n",
        "        return wrapper\n",
        "        \n",
        "    def get_data_func(self, func):\n",
        "        \"\"\"Shim for student's get-data function\n",
        "        \n",
        "        Collect the English vocab and reverse it\n",
        "        \"\"\"\n",
        "        def wrapper(*args, **kwargs):\n",
        "            ret = func(*args, **kwargs)\n",
        "            if self.enabled:\n",
        "                en_vocab = ret[4]\n",
        "                self.rev_en_vocab = {v:k for k,v in en_vocab.items()}\n",
        "            return ret\n",
        "        return wrapper\n",
        "        \n",
        "    @contextmanager\n",
        "    def trans_block(self, is_decoder):\n",
        "        \"\"\"Shim for recording which transformer block we're in (encoder/decoder)\"\"\"\n",
        "        try:\n",
        "            self.in_decoder = is_decoder\n",
        "            yield\n",
        "        finally:\n",
        "            self.in_decoder = False\n",
        "\n"
      ]
    },
    {
      "cell_type": "code",
      "execution_count": 17,
      "metadata": {
        "id": "rWa2aQutSBj6"
      },
      "outputs": [],
      "source": [
        "class FixedEmbedding(tf.keras.layers.Layer):\n",
        "    def __init__(self, embed_shape, **kwargs):\n",
        "        super().__init__(**kwargs)\n",
        "        self.embed_shape = embed_shape\n",
        "\n",
        "    def build(self, input_shape):\n",
        "        self.w = self.add_weight(name='kernel', shape=self.embed_shape,\n",
        "                                 initializer=tf.keras.initializers.GlorotUniform(), trainable=True)\n",
        "\n",
        "    def call(self, x=None):\n",
        "        return self.w"
      ]
    },
    {
      "cell_type": "code",
      "execution_count": 18,
      "metadata": {
        "id": "_PtcociqKvDl"
      },
      "outputs": [],
      "source": [
        "av = AttentionVis()\n",
        "\n",
        "def Attention_Matrix(K, Q, use_mask=False):\n",
        "  \"\"\"\n",
        "  This functions runs a single attention head.\n",
        "  :param K: is [batch_size x window_size_keys x embedding_size]\n",
        "  :param Q: is [batch_size x window_size_queries x embedding_size]\n",
        "  :return: attention matrix\n",
        "  \"\"\"\n",
        "\n",
        "  window_size_queries = Q.get_shape()[1] # window size of queries\n",
        "  window_size_keys = K.get_shape()[1] # window size of keys\n",
        "  mask = tf.convert_to_tensor(value=np.transpose(np.tril(np.ones((window_size_queries,window_size_keys))*np.NINF,-1),(1,0)),dtype=tf.float32)\n",
        "  atten_mask = tf.tile(tf.reshape(mask,[-1,window_size_queries,window_size_keys]),[tf.shape(input=K)[0],1,1])\n",
        "\n",
        "  # TODO:\n",
        "  # 1) compute attention weights using queries and key matrices (if use_mask==True, then make sure to add the attention mask before softmax)\n",
        "  # 2) return the attention matrix\n",
        "\n",
        "\n",
        "  # Check lecture slides for how to compute self-attention.\n",
        "   # You can use tf.transpose or tf.tensordot to perform the matrix multiplication for 3D matrices\n",
        "  # Remember:\n",
        "  # - Q is [batch_size x window_size_queries x embedding_size]\n",
        "  # - K is [batch_size x window_size_keys x embedding_size]\n",
        "  # - Mask is [batch_size x window_size_queries x window_size_keys]\n",
        "\n",
        "\n",
        "  # Here, queries are matmuled with the transpose of keys to produce for every query vector, weights per key vector.\n",
        "  # This can be thought of as: for every query word, how much should I pay attention to the other words in this window?\n",
        "  # Those weights are then used to create linear combinations of the corresponding values for each query.\n",
        "  # Those queries will become the new embeddings.\n",
        "  if use_mask == False:\n",
        "    attn_mat = tf.nn.softmax(tf.linalg.matmul(Q,K, transpose_b = True)/np.sqrt(K.get_shape()[2]))\n",
        "\n",
        "  else:\n",
        "    attn_mat = tf.nn.softmax(tf.linalg.matmul(Q,K, transpose_b = True)/np.sqrt(K.get_shape()[2]) + atten_mask)\n",
        "\n",
        "  return attn_mat\n",
        "\n",
        "\n",
        "class Atten_Head(tf.keras.layers.Layer):\n",
        "  def __init__(self, input_size, output_size, use_mask):\n",
        "    super(Atten_Head, self).__init__()\n",
        "\n",
        "    self.use_mask = use_mask\n",
        "\n",
        "    # TODO:\n",
        "    # Initialize the weight matrices for K, V, and Q.\n",
        "    # They should be able to multiply an input_size vector to produce an output_size vector\n",
        "    # Hint: use self.add_weight(...)\n",
        "    self.K_weight = self.add_weight(\"k_vec\",shape=(input_size, output_size),initializer='random_normal',trainable=True)\n",
        "    self.V_weight = self.add_weight(\"v_vec\",shape=(input_size, output_size),initializer='random_normal',trainable=True)\n",
        "    self.Q_weight = self.add_weight(\"q_vec\",shape=(input_size, output_size),initializer='random_normal',trainable=True)\n",
        "\n",
        "  @tf.function\n",
        "  def call(self, inputs_for_keys, inputs_for_values, inputs_for_queries):\n",
        "\n",
        "    \"\"\"\n",
        "    This functions runs a single attention head.\n",
        "    :param inputs_for_keys: tensor of [batch_size x [ENG/FRN]_WINDOW_SIZE x input_size ]\n",
        "    :param inputs_for_values: tensor of [batch_size x [ENG/FRN]_WINDOW_SIZE x input_size ]\n",
        "    :param inputs_for_queries: tensor of [batch_size x [ENG/FRN]_WINDOW_SIZE x input_size ]\n",
        "    :return: tensor of [BATCH_SIZE x (ENG/FRN)_WINDOW_SIZE x output_size ]\n",
        "    \"\"\"\n",
        "\n",
        "    # TODO:\n",
        "    # - Apply 3 matrices to turn inputs into keys, values, and queries. You will need to use tf.tensordot for this.\n",
        "    # - Call Attention_Matrix with the keys and queries, and with self.use_mask.\n",
        "    # - Apply the attention matrix to the values\n",
        "\n",
        "    K = tf.matmul(inputs_for_keys,self.K_weight)\n",
        "    V = tf.matmul(inputs_for_values,self.V_weight)\n",
        "    Q = tf.matmul(inputs_for_queries,self.Q_weight)\n",
        "\n",
        "    attn_mat = Attention_Matrix(K, Q, use_mask=self.use_mask)\n",
        "    output_mat = tf.matmul(attn_mat, V)\n",
        "\n",
        "    return output_mat\n",
        "\n",
        "\n",
        "\n",
        "class Multi_Headed(tf.keras.layers.Layer):\n",
        "  def __init__(self, emb_sz, use_mask):\n",
        "    super(Multi_Headed, self).__init__()\n",
        "\n",
        "    # TODO:\n",
        "    # Initialize heads\n",
        "    self.emb_sz = emb_sz\n",
        "    self.batch = int(emb_sz/3)\n",
        "    self.head1 = Atten_Head(emb_sz, self.batch , use_mask)\n",
        "    self.head2 = Atten_Head(emb_sz, self.batch, use_mask)\n",
        "    self.head3 = Atten_Head(emb_sz, self.batch, use_mask)\n",
        "    self.use_mask = use_mask\n",
        "    self.dense = tf.keras.layers.Dense(emb_sz)\n",
        "\n",
        "  @tf.function\n",
        "  def call(self, inputs_for_keys, inputs_for_values, inputs_for_queries):\n",
        "    \"\"\"\n",
        "    FOR CS2470 STUDENTS:\n",
        "    This functions runs a multiheaded attention layer.\n",
        "    Requirements:\n",
        "      - Splits data for 3 different heads into size embed_sz/3\n",
        "      - Create three different attention heads\n",
        "      - Each attention head should have input size embed_size and output embed_size/3\n",
        "      - Concatenate the outputs of these heads together\n",
        "      - Apply a linear layer\n",
        "    :param inputs_for_keys: tensor of [batch_size x [ENG/FRN]_WINDOW_SIZE x input_size ]\n",
        "    :param inputs_for_values: tensor of [batch_size x [ENG/FRN]_WINDOW_SIZE x input_size ]\n",
        "    :param inputs_for_queries: tensor of [batch_size x [ENG/FRN]_WINDOW_SIZE x input_size ]\n",
        "    :return: tensor of [BATCH_SIZE x (ENG/FRN)_WINDOW_SIZE x output_size ]\n",
        "    \"\"\"\n",
        "  \n",
        "    output1 = self.head1.call(inputs_for_keys, inputs_for_values, inputs_for_queries)\n",
        "    output2 = self.head2.call(inputs_for_keys, inputs_for_values, inputs_for_queries)\n",
        "    output3 = self.head3.call(inputs_for_keys, inputs_for_values, inputs_for_queries)\n",
        "\n",
        "\n",
        "    #output = tf.transpose(tf.stack([output1,output2,output3]), perm = [1,2,0,3])\n",
        "    #output = tf.reshape(output, (inputs_for_values.get_shape()[0], -1, self.emb_sz))\n",
        "    output = tf.concat([output1,output2,output3],axis=2)\n",
        "    \n",
        "    output = self.dense(output)\n",
        "\n",
        "    return output\n",
        "\n",
        "\n",
        "class Feed_Forwards(tf.keras.layers.Layer):\n",
        "  def __init__(self, emb_sz):\n",
        "    super(Feed_Forwards, self).__init__()\n",
        "\n",
        "    self.layer_1 = tf.keras.layers.Dense(emb_sz,activation='relu')\n",
        "    self.layer_2 = tf.keras.layers.Dense(emb_sz)\n",
        "\n",
        "  @tf.function\n",
        "  def call(self, inputs):\n",
        "    \"\"\"\n",
        "    This functions creates a feed forward network as described in 3.3\n",
        "    https://arxiv.org/pdf/1706.03762.pdf\n",
        "    Requirements:\n",
        "    - Two linear layers with relu between them\n",
        "    :param inputs: input tensor [batch_size x window_size x embedding_size]\n",
        "    :return: tensor [batch_size x window_size x embedding_size]\n",
        "    \"\"\"\n",
        "    layer_1_out = self.layer_1(inputs)\n",
        "    layer_2_out = self.layer_2(layer_1_out)\n",
        "    return layer_2_out\n",
        "\n",
        "class Transformer_Block(tf.keras.layers.Layer):\n",
        "  def __init__(self, emb_sz, is_decoder, multi_headed=False):\n",
        "    super(Transformer_Block, self).__init__()\n",
        "    self.is_decoder = is_decoder\n",
        "    self.ff_layer = Feed_Forwards(emb_sz)\n",
        "    self.self_atten = Atten_Head(emb_sz,emb_sz,is_decoder) if not multi_headed else Multi_Headed(emb_sz,use_mask=is_decoder)\n",
        "    if self.is_decoder:\n",
        "      self.self_context_atten = Atten_Head(emb_sz,emb_sz,False) if not multi_headed else Multi_Headed(emb_sz,use_mask=False)\n",
        "\n",
        "    self.layer_norm = tf.keras.layers.LayerNormalization(axis=-1)\n",
        "\n",
        "  @tf.function\n",
        "  def call(self, inputs, context=None):\n",
        "    \"\"\"\n",
        "    This functions calls a transformer block.\n",
        "    There are two possibilities for when thits function is called.\n",
        "        - if self.is_decoder == False, then:\n",
        "            1) compute unmasked attention on the inputs\n",
        "            2) residual connection and layer normalization\n",
        "            3) feed forward layer\n",
        "            4) residual connection and layer normalization\n",
        "        - if self.is_decoder == True, then:\n",
        "            1) compute MASKED attention on the inputs\n",
        "            2) residual connection and layer normalization\n",
        "            3) computed UNMASKED attention using context\n",
        "            4) residual connection and layer normalization\n",
        "            5) feed forward layer\n",
        "            6) residual layer and layer normalization\n",
        "    If the multi_headed==True, the model uses multiheaded attention (Only 2470 students must implement this)\n",
        "    :param inputs: tensor of [BATCH_SIZE x (ENG/FRN)_WINDOW_SIZE x EMBEDDING_SIZE ]\n",
        "    :context: tensor of [BATCH_SIZE x FRENCH_WINDOW_SIZE x EMBEDDING_SIZE ] or None\n",
        "      default=None, This is context from the encoder to be used as Keys and Values in self-attention function\n",
        "    \"\"\"\n",
        "\n",
        "    with av.trans_block(self.is_decoder):\n",
        "      atten_out = self.self_atten(inputs,inputs,inputs)\n",
        "    atten_out+=inputs\n",
        "    atten_normalized = self.layer_norm(atten_out)\n",
        "\n",
        "    if self.is_decoder:\n",
        "      assert context is not None,\"Decoder blocks require context\"\n",
        "      context_atten_out = self.self_context_atten(context,context,atten_normalized)\n",
        "      context_atten_out+=atten_normalized\n",
        "      atten_normalized = self.layer_norm(context_atten_out)\n",
        "\n",
        "    ff_out=self.ff_layer(atten_normalized)\n",
        "    ff_out+=atten_normalized\n",
        "    ff_norm = self.layer_norm(ff_out)\n",
        "\n",
        "    return tf.nn.relu(ff_norm)\n",
        "\n",
        "class Position_Encoding_Layer(tf.keras.layers.Layer):\n",
        "  def __init__(self, window_sz, emb_sz):\n",
        "    super(Position_Encoding_Layer, self).__init__()\n",
        "    self.positional_embeddings = self.add_weight(\"pos_embed\",shape=[window_sz, emb_sz])\n",
        "\n",
        "  @tf.function\n",
        "  def call(self, x):\n",
        "    \"\"\"\n",
        "    Adds positional embeddings to word embeddings.\n",
        "    :param x: [BATCH_SIZE x (ENG/FRN)_WINDOW_SIZE x EMBEDDING_SIZE ] the input embeddings fed to the encoder\n",
        "    :return: [BATCH_SIZE x (ENG/FRN)_WINDOW_SIZE x EMBEDDING_SIZE ] new word embeddings with added positional encodings\n",
        "    \"\"\"\n",
        "    \n",
        "    return x+self.positional_embeddings\n"
      ]
    },
    {
      "cell_type": "code",
      "execution_count": 19,
      "metadata": {
        "id": "-3Z8FxmdIVJr"
      },
      "outputs": [],
      "source": [
        "class Transformer(tf.keras.Model):\n",
        "  def __init__(self):\n",
        "\n",
        "    ######vvv DO NOT CHANGE vvv##################\n",
        "    super(Transformer, self).__init__()\n",
        "\n",
        "    \n",
        "\n",
        "    # Define batch size and optimizer/learning rate\n",
        "    self.batch_size = 100\n",
        "    self.embedding_size = 200\n",
        "    self.learning_rate = 0.001\n",
        "    self.optimizer = tf.keras.optimizers.Adam(learning_rate=self.learning_rate)\n",
        "\n",
        "   \n",
        "    # Create positional encoder layers\n",
        "    self.pos_sentence = Position_Encoding_Layer(enc_inputs.shape[1], self.embedding_size)\n",
        "    self.pos_sentence1 = Position_Encoding_Layer(enc_inputs.shape[1], self.embedding_size)\n",
        "\n",
        "    # Define decoder layers:\n",
        "    self.encoder = Transformer_Block(self.embedding_size, is_decoder = False)\n",
        "\n",
        "#TRANSFORMER DECODER\n",
        "    # Define decoder layers:\n",
        "    self.query_embed = FixedEmbedding((self.batch_size,enc_inputs.shape[1],self.embedding_size))\n",
        "    self.decoder = Transformer_Block(self.embedding_size, is_decoder = True)\n",
        "\n",
        "\t\t# Define dense layer(s)\n",
        "    self.box_dense1 = tf.keras.layers.Dense(256, activation='relu')\n",
        "    self.box_dense2 = tf.keras.layers.Dense(500, activation='relu')\n",
        "    self.box_dense3 = tf.keras.layers.Dense(4, activation='sigmoid')\n",
        "\n",
        "    self.class_dense1 = tf.keras.layers.Dense(256, activation='relu')\n",
        "    self.class_dense2 = tf.keras.layers.Dense(500, activation='relu')\n",
        "    self.class_dense3 = tf.keras.layers.Dense(VOCAB_SIZE, activation='softmax')\n",
        "\n",
        "  @tf.function\n",
        "  def call(self, encoder_input, decoder_input=None):\n",
        "    \"\"\"\n",
        "    :param encoder_input: batched ids corresponding to French sentences\n",
        "    :param decoder_input: batched ids corresponding to English sentences\n",
        "    :return prbs: The 3d probabilities as a tensor, [batch_size x window_size x english_vocab_size]\n",
        "    \"\"\"\n",
        "    encoder_output = self.pos_sentence(encoder_input)\n",
        "    encoder_output = self.encoder(encoder_output)\n",
        "\n",
        "    decoder_output = self.pos_sentence1(self.query_embed(None))\n",
        "    decoder_output = self.decoder(decoder_output,context = encoder_output)\n",
        "\n",
        "    box_output = self.box_dense1(decoder_output)\n",
        "    box_output = self.box_dense2(box_output)\n",
        "    box_output = self.box_dense3(box_output)\n",
        "\n",
        "    class_output = self.class_dense1(decoder_output)\n",
        "    class_output= self.class_dense2(class_output)\n",
        "    class_output = self.class_dense3(class_output)\n",
        "\n",
        "\n",
        "    return box_output , class_output\n",
        "\n",
        "  def accuracy_function(self, prbs, labels, mask):\n",
        "    \"\"\"\n",
        "    DO NOT CHANGE\n",
        "    Computes the batch accuracy\n",
        "\n",
        "    :param prbs:  float tensor, word prediction probabilities [batch_size x window_size x english_vocab_size]\n",
        "    :param labels:  integer tensor, word prediction labels [batch_size x window_size]\n",
        "    :param mask:  tensor that acts as a padding mask [batch_size x window_size]\n",
        "    :return: scalar tensor of accuracy of the batch between 0 and 1\n",
        "    \"\"\"\n",
        "\n",
        "    decoded_symbols = tf.argmax(input=prbs, axis=2)\n",
        "    accuracy = tf.reduce_mean(tf.boolean_mask(tf.cast(tf.equal(decoded_symbols, labels), dtype=tf.float32),mask))\n",
        "    return accuracy\n",
        "\n",
        "\n",
        "  def loss_function(self, box_pred, box_labels, class_pred, class_labels):\n",
        "    \"\"\"\n",
        "    Calculates the model cross-entropy loss after one forward pass\n",
        "    Please use reduce sum here instead of reduce mean to make things easier in calculating per symbol accuracy.\n",
        "    :param prbs:  float tensor, word prediction probabilities [batch_size x window_size x english_vocab_size]\n",
        "    :param labels:  integer tensor, word prediction labels [batch_size x window_size]\n",
        "    :param mask:  tensor that acts as a padding mask [batch_size x window_size]\n",
        "    :return: the loss of the model as a tensor\n",
        "    \"\"\"\n",
        "    gl = tfa.losses.GIoULoss()\n",
        "    box_loss = gl(box_pred, box_labels)\n",
        "    class_loss = tf.reduce_mean(tf.keras.losses.sparse_categorical_crossentropy(class_labels, class_pred, from_logits = False))\n",
        "    # print(f\"Class loss: {class_loss}, Box loss: {10*box_loss}\")\n",
        "    return 10*tf.cast(box_loss,tf.float32) + class_loss\n",
        "    \n",
        "\n",
        "\n",
        "\n",
        "  def __call__(self, *args, **kwargs):\n",
        "    return super(Transformer, self).__call__(*args, **kwargs)\n"
      ]
    },
    {
      "cell_type": "code",
      "execution_count": 29,
      "metadata": {
        "id": "nh3MYg2ObhoM"
      },
      "outputs": [],
      "source": [
        "#TRAIN FUNCTION\n",
        "\n",
        "def train(model, enc_inputs, labels, class_labels, num_batches=None):\n",
        "    \n",
        "    loss = 0 \n",
        "    if num_batches == None:\n",
        "        num_batches = len(enc_inputs)//model.batch_size\n",
        "    epoch_loss = 0\n",
        "    for batch in range(num_batches):\n",
        "        encoder_input_train = enc_inputs[model.batch_size * batch: ((model.batch_size * batch) + model.batch_size)]\n",
        "        #print(encoder_input_train.shape)\n",
        "        batched_labels = labels[model.batch_size * batch: ((model.batch_size * batch) + model.batch_size)]\n",
        "        batched_class_labels = class_labels[model.batch_size * batch: ((model.batch_size * batch) + model.batch_size)]\n",
        "        #decoder_input_train = decoder_train[:,:-1]\n",
        "        #print(decoder_input_train.shape)\n",
        "        #decoder_labels_train = decoder_train[:,1:]\n",
        "\n",
        "        # x_masked = ma.masked_where(batched_labels == [-1,-1,-1,-1], batched_labels)\n",
        "        #mask = np.where(np.all(batched_labels == [-1,-1,-1,-1],axis=1), 0, 1)\n",
        "        # mask = np.ma.getmask(x_masked)\n",
        "        # print(batched_labels.shape)\n",
        "        # print(x_masked[0])\n",
        "        boolean_mask = np.all(batched_labels != [-1, -1, -1, -1], axis=2)\n",
        "        one_mask = np.all(batched_labels == [ 0, 0, 0, 0], axis=2)\n",
        "\n",
        "\n",
        "        with tf.GradientTape() as tape:\n",
        "            box_pred, class_pred = model.call(encoder_input_train, None)\n",
        "            # print(boolean_mask)\n",
        "            # print(box_pred[boolean_mask])\n",
        "            # print(box_pred)\n",
        "            # print(batched_labels)\n",
        "            box_pred = np.array(box_pred)\n",
        "            batched_labels = np.array(batched_labels)\n",
        "            # box_pred[one_mask] = np.array(batched_labels[one_mask])\n",
        "            # print(box_pred)\n",
        "            # loss = model.loss_function(box_pred[boolean_mask], batched_labels[boolean_mask], class_pred, batched_class_labels)\n",
        "            loss = model.loss_function(box_pred, batched_labels, class_pred, batched_class_labels)\n",
        "            # print(loss)\n",
        "            epoch_loss += loss\n",
        "\n",
        "        gradients = tape.gradient(loss, model.trainable_variables)\n",
        "        model.optimizer.apply_gradients(zip(gradients, model.trainable_variables))\n",
        "\n",
        "    print(epoch_loss/num_batches)\n",
        "    return None"
      ]
    },
    {
      "cell_type": "code",
      "execution_count": 32,
      "metadata": {
        "colab": {
          "base_uri": "https://localhost:8080/",
          "height": 372
        },
        "id": "5zBAFc_btSzb",
        "outputId": "708f348a-f34c-4867-d547-fa69c1ca3e1e"
      },
      "outputs": [
        {
          "name": "stdout",
          "output_type": "stream",
          "text": [
            "tf.Tensor(27.433962, shape=(), dtype=float32)\n"
          ]
        },
        {
          "ename": "ValueError",
          "evalue": "ignored",
          "output_type": "error",
          "traceback": [
            "\u001b[0;31m---------------------------------------------------------------------------\u001b[0m",
            "\u001b[0;31mValueError\u001b[0m                                Traceback (most recent call last)",
            "\u001b[0;32m<ipython-input-32-e25a9c202822>\u001b[0m in \u001b[0;36m<module>\u001b[0;34m()\u001b[0m\n\u001b[1;32m      1\u001b[0m \u001b[0mtransformer\u001b[0m \u001b[0;34m=\u001b[0m \u001b[0mTransformer\u001b[0m\u001b[0;34m(\u001b[0m\u001b[0;34m)\u001b[0m\u001b[0;34m\u001b[0m\u001b[0;34m\u001b[0m\u001b[0m\n\u001b[1;32m      2\u001b[0m \u001b[0mtrain\u001b[0m\u001b[0;34m(\u001b[0m\u001b[0mtransformer\u001b[0m\u001b[0;34m,\u001b[0m \u001b[0membed_sentence\u001b[0m\u001b[0;34m,\u001b[0m \u001b[0mlabels\u001b[0m\u001b[0;34m,\u001b[0m \u001b[0mclass_labels\u001b[0m\u001b[0;34m,\u001b[0m \u001b[0mnum_batches\u001b[0m\u001b[0;34m=\u001b[0m\u001b[0;36m1\u001b[0m\u001b[0;34m)\u001b[0m\u001b[0;34m\u001b[0m\u001b[0;34m\u001b[0m\u001b[0m\n\u001b[0;32m----> 3\u001b[0;31m \u001b[0mtransformer\u001b[0m\u001b[0;34m.\u001b[0m\u001b[0mload_weights\u001b[0m\u001b[0;34m(\u001b[0m\u001b[0;34m\"/content/drive/MyDrive/DL Project/trained_weights/transformer_weights.hdf5\"\u001b[0m\u001b[0;34m)\u001b[0m\u001b[0;34m\u001b[0m\u001b[0;34m\u001b[0m\u001b[0m\n\u001b[0m",
            "\u001b[0;32m/usr/local/lib/python3.7/dist-packages/keras/utils/traceback_utils.py\u001b[0m in \u001b[0;36merror_handler\u001b[0;34m(*args, **kwargs)\u001b[0m\n\u001b[1;32m     65\u001b[0m     \u001b[0;32mexcept\u001b[0m \u001b[0mException\u001b[0m \u001b[0;32mas\u001b[0m \u001b[0me\u001b[0m\u001b[0;34m:\u001b[0m  \u001b[0;31m# pylint: disable=broad-except\u001b[0m\u001b[0;34m\u001b[0m\u001b[0;34m\u001b[0m\u001b[0m\n\u001b[1;32m     66\u001b[0m       \u001b[0mfiltered_tb\u001b[0m \u001b[0;34m=\u001b[0m \u001b[0m_process_traceback_frames\u001b[0m\u001b[0;34m(\u001b[0m\u001b[0me\u001b[0m\u001b[0;34m.\u001b[0m\u001b[0m__traceback__\u001b[0m\u001b[0;34m)\u001b[0m\u001b[0;34m\u001b[0m\u001b[0;34m\u001b[0m\u001b[0m\n\u001b[0;32m---> 67\u001b[0;31m       \u001b[0;32mraise\u001b[0m \u001b[0me\u001b[0m\u001b[0;34m.\u001b[0m\u001b[0mwith_traceback\u001b[0m\u001b[0;34m(\u001b[0m\u001b[0mfiltered_tb\u001b[0m\u001b[0;34m)\u001b[0m \u001b[0;32mfrom\u001b[0m \u001b[0;32mNone\u001b[0m\u001b[0;34m\u001b[0m\u001b[0;34m\u001b[0m\u001b[0m\n\u001b[0m\u001b[1;32m     68\u001b[0m     \u001b[0;32mfinally\u001b[0m\u001b[0;34m:\u001b[0m\u001b[0;34m\u001b[0m\u001b[0;34m\u001b[0m\u001b[0m\n\u001b[1;32m     69\u001b[0m       \u001b[0;32mdel\u001b[0m \u001b[0mfiltered_tb\u001b[0m\u001b[0;34m\u001b[0m\u001b[0;34m\u001b[0m\u001b[0m\n",
            "\u001b[0;32m/usr/local/lib/python3.7/dist-packages/keras/engine/training.py\u001b[0m in \u001b[0;36mload_weights\u001b[0;34m(self, filepath, by_name, skip_mismatch, options)\u001b[0m\n\u001b[1;32m   2592\u001b[0m       \u001b[0;32mif\u001b[0m \u001b[0;32mnot\u001b[0m \u001b[0mself\u001b[0m\u001b[0;34m.\u001b[0m\u001b[0m_is_graph_network\u001b[0m \u001b[0;32mand\u001b[0m \u001b[0;32mnot\u001b[0m \u001b[0mself\u001b[0m\u001b[0;34m.\u001b[0m\u001b[0mbuilt\u001b[0m\u001b[0;34m:\u001b[0m\u001b[0;34m\u001b[0m\u001b[0;34m\u001b[0m\u001b[0m\n\u001b[1;32m   2593\u001b[0m         raise ValueError(\n\u001b[0;32m-> 2594\u001b[0;31m             \u001b[0;34m'Unable to load weights saved in HDF5 format into a subclassed '\u001b[0m\u001b[0;34m\u001b[0m\u001b[0;34m\u001b[0m\u001b[0m\n\u001b[0m\u001b[1;32m   2595\u001b[0m             \u001b[0;34m'Model which has not created its variables yet. Call the Model '\u001b[0m\u001b[0;34m\u001b[0m\u001b[0;34m\u001b[0m\u001b[0m\n\u001b[1;32m   2596\u001b[0m             'first, then load the weights.')\n",
            "\u001b[0;31mValueError\u001b[0m: Unable to load weights saved in HDF5 format into a subclassed Model which has not created its variables yet. Call the Model first, then load the weights."
          ]
        }
      ],
      "source": [
        "transformer = Transformer()\n",
        "train(transformer, embed_sentence, labels, class_labels, num_batches=1)\n",
        "transformer.load_weights(\"/content/drive/MyDrive/DL Project/trained_weights/transformer_weights.hdf5\")"
      ]
    },
    {
      "cell_type": "code",
      "execution_count": 33,
      "metadata": {
        "colab": {
          "base_uri": "https://localhost:8080/"
        },
        "id": "VIFSoRCa4HZx",
        "outputId": "128a0b1b-0833-4e4f-c372-7906736c0c12"
      },
      "outputs": [
        {
          "name": "stdout",
          "output_type": "stream",
          "text": [
            "tf.Tensor(20.65085, shape=(), dtype=float32)\n",
            "tf.Tensor(20.376898, shape=(), dtype=float32)\n",
            "tf.Tensor(19.999268, shape=(), dtype=float32)\n"
          ]
        }
      ],
      "source": [
        "transformer = Transformer()\n",
        "for _ in range(3): \n",
        "  train(transformer, embed_sentence, labels, class_labels)\n"
      ]
    },
    {
      "cell_type": "code",
      "execution_count": 25,
      "metadata": {
        "colab": {
          "base_uri": "https://localhost:8080/",
          "height": 443
        },
        "id": "5flIwfK0ulm3",
        "outputId": "1e272125-5e18-4a6c-a499-dbc31a754720"
      },
      "outputs": [
        {
          "ename": "ValueError",
          "evalue": "ignored",
          "output_type": "error",
          "traceback": [
            "\u001b[0;31m---------------------------------------------------------------------------\u001b[0m",
            "\u001b[0;31mValueError\u001b[0m                                Traceback (most recent call last)",
            "\u001b[0;32m<ipython-input-25-3f1030a2eeb2>\u001b[0m in \u001b[0;36m<module>\u001b[0;34m()\u001b[0m\n\u001b[0;32m----> 1\u001b[0;31m \u001b[0mtransformer\u001b[0m\u001b[0;34m.\u001b[0m\u001b[0msave_weights\u001b[0m\u001b[0;34m(\u001b[0m\u001b[0;34m\"/content/drive/MyDrive/DL Project/trained_weights/transformer_weights.hdf5\"\u001b[0m\u001b[0;34m,\u001b[0m \u001b[0moverwrite\u001b[0m\u001b[0;34m=\u001b[0m\u001b[0;32mTrue\u001b[0m\u001b[0;34m)\u001b[0m\u001b[0;34m\u001b[0m\u001b[0;34m\u001b[0m\u001b[0m\n\u001b[0m",
            "\u001b[0;32m/usr/local/lib/python3.7/dist-packages/keras/utils/traceback_utils.py\u001b[0m in \u001b[0;36merror_handler\u001b[0;34m(*args, **kwargs)\u001b[0m\n\u001b[1;32m     65\u001b[0m     \u001b[0;32mexcept\u001b[0m \u001b[0mException\u001b[0m \u001b[0;32mas\u001b[0m \u001b[0me\u001b[0m\u001b[0;34m:\u001b[0m  \u001b[0;31m# pylint: disable=broad-except\u001b[0m\u001b[0;34m\u001b[0m\u001b[0;34m\u001b[0m\u001b[0m\n\u001b[1;32m     66\u001b[0m       \u001b[0mfiltered_tb\u001b[0m \u001b[0;34m=\u001b[0m \u001b[0m_process_traceback_frames\u001b[0m\u001b[0;34m(\u001b[0m\u001b[0me\u001b[0m\u001b[0;34m.\u001b[0m\u001b[0m__traceback__\u001b[0m\u001b[0;34m)\u001b[0m\u001b[0;34m\u001b[0m\u001b[0;34m\u001b[0m\u001b[0m\n\u001b[0;32m---> 67\u001b[0;31m       \u001b[0;32mraise\u001b[0m \u001b[0me\u001b[0m\u001b[0;34m.\u001b[0m\u001b[0mwith_traceback\u001b[0m\u001b[0;34m(\u001b[0m\u001b[0mfiltered_tb\u001b[0m\u001b[0;34m)\u001b[0m \u001b[0;32mfrom\u001b[0m \u001b[0;32mNone\u001b[0m\u001b[0;34m\u001b[0m\u001b[0;34m\u001b[0m\u001b[0m\n\u001b[0m\u001b[1;32m     68\u001b[0m     \u001b[0;32mfinally\u001b[0m\u001b[0;34m:\u001b[0m\u001b[0;34m\u001b[0m\u001b[0;34m\u001b[0m\u001b[0m\n\u001b[1;32m     69\u001b[0m       \u001b[0;32mdel\u001b[0m \u001b[0mfiltered_tb\u001b[0m\u001b[0;34m\u001b[0m\u001b[0;34m\u001b[0m\u001b[0m\n",
            "\u001b[0;32m/usr/local/lib/python3.7/dist-packages/h5py/_hl/group.py\u001b[0m in \u001b[0;36mcreate_dataset\u001b[0;34m(self, name, shape, dtype, data, **kwds)\u001b[0m\n\u001b[1;32m    146\u001b[0m                     \u001b[0mgroup\u001b[0m \u001b[0;34m=\u001b[0m \u001b[0mself\u001b[0m\u001b[0;34m.\u001b[0m\u001b[0mrequire_group\u001b[0m\u001b[0;34m(\u001b[0m\u001b[0mparent_path\u001b[0m\u001b[0;34m)\u001b[0m\u001b[0;34m\u001b[0m\u001b[0;34m\u001b[0m\u001b[0m\n\u001b[1;32m    147\u001b[0m \u001b[0;34m\u001b[0m\u001b[0m\n\u001b[0;32m--> 148\u001b[0;31m             \u001b[0mdsid\u001b[0m \u001b[0;34m=\u001b[0m \u001b[0mdataset\u001b[0m\u001b[0;34m.\u001b[0m\u001b[0mmake_new_dset\u001b[0m\u001b[0;34m(\u001b[0m\u001b[0mgroup\u001b[0m\u001b[0;34m,\u001b[0m \u001b[0mshape\u001b[0m\u001b[0;34m,\u001b[0m \u001b[0mdtype\u001b[0m\u001b[0;34m,\u001b[0m \u001b[0mdata\u001b[0m\u001b[0;34m,\u001b[0m \u001b[0mname\u001b[0m\u001b[0;34m,\u001b[0m \u001b[0;34m**\u001b[0m\u001b[0mkwds\u001b[0m\u001b[0;34m)\u001b[0m\u001b[0;34m\u001b[0m\u001b[0;34m\u001b[0m\u001b[0m\n\u001b[0m\u001b[1;32m    149\u001b[0m             \u001b[0mdset\u001b[0m \u001b[0;34m=\u001b[0m \u001b[0mdataset\u001b[0m\u001b[0;34m.\u001b[0m\u001b[0mDataset\u001b[0m\u001b[0;34m(\u001b[0m\u001b[0mdsid\u001b[0m\u001b[0;34m)\u001b[0m\u001b[0;34m\u001b[0m\u001b[0;34m\u001b[0m\u001b[0m\n\u001b[1;32m    150\u001b[0m             \u001b[0;32mreturn\u001b[0m \u001b[0mdset\u001b[0m\u001b[0;34m\u001b[0m\u001b[0;34m\u001b[0m\u001b[0m\n",
            "\u001b[0;32m/usr/local/lib/python3.7/dist-packages/h5py/_hl/dataset.py\u001b[0m in \u001b[0;36mmake_new_dset\u001b[0;34m(parent, shape, dtype, data, name, chunks, compression, shuffle, fletcher32, maxshape, compression_opts, fillvalue, scaleoffset, track_times, external, track_order, dcpl, allow_unknown_filter)\u001b[0m\n\u001b[1;32m    135\u001b[0m \u001b[0;34m\u001b[0m\u001b[0m\n\u001b[1;32m    136\u001b[0m \u001b[0;34m\u001b[0m\u001b[0m\n\u001b[0;32m--> 137\u001b[0;31m     \u001b[0mdset_id\u001b[0m \u001b[0;34m=\u001b[0m \u001b[0mh5d\u001b[0m\u001b[0;34m.\u001b[0m\u001b[0mcreate\u001b[0m\u001b[0;34m(\u001b[0m\u001b[0mparent\u001b[0m\u001b[0;34m.\u001b[0m\u001b[0mid\u001b[0m\u001b[0;34m,\u001b[0m \u001b[0mname\u001b[0m\u001b[0;34m,\u001b[0m \u001b[0mtid\u001b[0m\u001b[0;34m,\u001b[0m \u001b[0msid\u001b[0m\u001b[0;34m,\u001b[0m \u001b[0mdcpl\u001b[0m\u001b[0;34m=\u001b[0m\u001b[0mdcpl\u001b[0m\u001b[0;34m)\u001b[0m\u001b[0;34m\u001b[0m\u001b[0;34m\u001b[0m\u001b[0m\n\u001b[0m\u001b[1;32m    138\u001b[0m \u001b[0;34m\u001b[0m\u001b[0m\n\u001b[1;32m    139\u001b[0m     \u001b[0;32mif\u001b[0m \u001b[0;34m(\u001b[0m\u001b[0mdata\u001b[0m \u001b[0;32mis\u001b[0m \u001b[0;32mnot\u001b[0m \u001b[0;32mNone\u001b[0m\u001b[0;34m)\u001b[0m \u001b[0;32mand\u001b[0m \u001b[0;34m(\u001b[0m\u001b[0;32mnot\u001b[0m \u001b[0misinstance\u001b[0m\u001b[0;34m(\u001b[0m\u001b[0mdata\u001b[0m\u001b[0;34m,\u001b[0m \u001b[0mEmpty\u001b[0m\u001b[0;34m)\u001b[0m\u001b[0;34m)\u001b[0m\u001b[0;34m:\u001b[0m\u001b[0;34m\u001b[0m\u001b[0;34m\u001b[0m\u001b[0m\n",
            "\u001b[0;32mh5py/_objects.pyx\u001b[0m in \u001b[0;36mh5py._objects.with_phil.wrapper\u001b[0;34m()\u001b[0m\n",
            "\u001b[0;32mh5py/_objects.pyx\u001b[0m in \u001b[0;36mh5py._objects.with_phil.wrapper\u001b[0;34m()\u001b[0m\n",
            "\u001b[0;32mh5py/h5d.pyx\u001b[0m in \u001b[0;36mh5py.h5d.create\u001b[0;34m()\u001b[0m\n",
            "\u001b[0;31mValueError\u001b[0m: Unable to create dataset (name already exists)"
          ]
        }
      ],
      "source": [
        "transformer.save_weights(\"/content/drive/MyDrive/DL Project/trained_weights/transformer_weights.hdf5\", overwrite=True)"
      ]
    },
    {
      "cell_type": "code",
      "execution_count": 34,
      "metadata": {
        "colab": {
          "base_uri": "https://localhost:8080/"
        },
        "id": "zQ1ubM9X9RhT",
        "outputId": "4ea7022d-e706-4e85-ae65-f0e1b754db23"
      },
      "outputs": [
        {
          "data": {
            "text/plain": [
              "(array([[0.45717445, 0.40181863, 0.52956426, 0.38982525],\n",
              "        [0.71827257, 0.5186115 , 0.49821988, 0.3347276 ],\n",
              "        [0.69347817, 0.50468016, 0.5155579 , 0.3843896 ],\n",
              "        [0.6226561 , 0.40424696, 0.49434718, 0.35858673],\n",
              "        [0.5803406 , 0.47897074, 0.47375205, 0.42670515],\n",
              "        [0.494779  , 0.41955924, 0.5403828 , 0.39007992],\n",
              "        [0.5080569 , 0.37470862, 0.5463811 , 0.41263658],\n",
              "        [0.5698923 , 0.47595647, 0.48098436, 0.36907363],\n",
              "        [0.54248774, 0.46210605, 0.56316984, 0.41748866],\n",
              "        [0.50206804, 0.4141142 , 0.5452213 , 0.38091978],\n",
              "        [0.5261805 , 0.44099483, 0.5581638 , 0.39562872],\n",
              "        [0.48851895, 0.46645522, 0.56075466, 0.35955706],\n",
              "        [0.4927273 , 0.4685425 , 0.5333515 , 0.37492692],\n",
              "        [0.52136785, 0.44360787, 0.5522489 , 0.36735713],\n",
              "        [0.53591865, 0.46316117, 0.51762193, 0.37243676],\n",
              "        [0.47341126, 0.44938153, 0.569719  , 0.37189156],\n",
              "        [0.4982176 , 0.45630595, 0.53499043, 0.37711686],\n",
              "        [0.4756793 , 0.44188344, 0.5569165 , 0.3752776 ],\n",
              "        [0.49871683, 0.4730883 , 0.5698157 , 0.37197387],\n",
              "        [0.51574904, 0.43068063, 0.56613517, 0.38591588]], dtype=float32),\n",
              " array(['bus.n.01', 'no object', 'no object', 'knife.n.01', 'no object',\n",
              "        'no object', 'no object', 'no object', 'no object', 'no object',\n",
              "        'no object', 'no object', 'no object', 'no object', 'no object',\n",
              "        'no object', 'no object', 'no object', 'no object', 'no object'],\n",
              "       dtype='<U10'))"
            ]
          },
          "execution_count": 34,
          "metadata": {},
          "output_type": "execute_result"
        }
      ],
      "source": [
        "def predict(model, phrase):\n",
        "  class_labels_list = []\n",
        "  #Tokenizing the phrase\n",
        "  phrase = phrase.split(\" \")\n",
        "  \n",
        "  #Getting integer values of each token from vocab dictionary\n",
        "  for i in range(len(phrase)):\n",
        "    phrase[i] = word_map[phrase[i]]\n",
        "\n",
        "  #Manually padding the array\n",
        "  num = len(class_labels[0]) - len(phrase)\n",
        "  for i in range(num):\n",
        "    phrase.append(0.0)\n",
        "\n",
        "  #Getting Glove embeddings\n",
        "  embed_sentence = get_w2v(phrase, embedd, idx_map)\n",
        "\n",
        "  #Model calling   \n",
        "  bounding_box, class_label_encoding = transformer.call(np.array([embed_sentence]),None)\n",
        "\n",
        "  \n",
        "  for i in range(len(class_label_encoding[0])):\n",
        "    idx = np.argmax(class_label_encoding[0][i])\n",
        "    class_label = ulta_class[idx] \n",
        "    class_labels_list.append(class_label)\n",
        "\n",
        "\n",
        "  return np.array(bounding_box[0]), np.array(class_labels_list)\n",
        "\n",
        "predict(transformer,'bus next to duck')\n"
      ]
    },
    {
      "cell_type": "code",
      "execution_count": 35,
      "metadata": {
        "colab": {
          "base_uri": "https://localhost:8080/"
        },
        "id": "vFJKLJGbeycO",
        "outputId": "a0fc5652-32ab-4002-d68d-1e63b131ba99"
      },
      "outputs": [
        {
          "name": "stdout",
          "output_type": "stream",
          "text": [
            "Copying gs://quickdraw_dataset/sketchrnn/butterfly.npz...\n",
            "/ [1 files][ 13.2 MiB/ 13.2 MiB]                                                \n",
            "Operation completed over 1 objects/13.2 MiB.                                     \n"
          ]
        }
      ],
      "source": [
        "data_class = 'butterfly' #@param [\"cat\",\"eye\",\"rabbit\", \"carrot\", \"dog\", \"bus\", \"bee\", \"butterfly\"]\n",
        "\n",
        "!gsutil cp gs://quickdraw_dataset/sketchrnn/{data_class}.npz .\n",
        "\n",
        "data = np.load(f'{data_class}.npz',encoding='latin1',allow_pickle=True)\n",
        "data_train = [dataset.cleanup(d) for d in data['train']]\n",
        "data_valid = [dataset.cleanup(d) for d in data['valid']]\n",
        "data_test = [dataset.cleanup(d) for d in data['test']]"
      ]
    },
    {
      "cell_type": "code",
      "execution_count": 36,
      "metadata": {
        "colab": {
          "base_uri": "https://localhost:8080/",
          "height": 441
        },
        "id": "0Q1ngjY1V29r",
        "outputId": "c89d5a82-11ea-440c-a764-a38612423080"
      },
      "outputs": [
        {
          "data": {
            "image/png": "[encoded data removed]",
            "text/plain": [
              "<Figure size 1008x432 with 40 Axes>"
            ]
          },
          "metadata": {},
          "output_type": "display_data"
        }
      ],
      "source": [
        "n = [4, 10]\n",
        "\n",
        "fig, ax = plt.subplots(n[0],n[1],figsize=(14, 6))\n",
        "\n",
        "perm = np.random.permutation(range(len(data_train)))[:n[0]*n[1]]\n",
        "\n",
        "for i, idx in enumerate(perm):\n",
        "    x, y = i // n[1], i % n[1]\n",
        "    utils.plot_strokes(ax[x][y], data_train[idx])\n",
        "    ax[x][y].set(xlabel=idx)\n",
        "    \n",
        "utils.plt_show()"
      ]
    },
    {
      "cell_type": "code",
      "execution_count": 37,
      "metadata": {
        "id": "F5p3gExee0zy"
      },
      "outputs": [],
      "source": [
        "hps = {\n",
        "    \"max_seq_len\": max(map(len, np.concatenate([data['train'], data['valid'], data['test']]))),\n",
        "    'batch_size': 100,\n",
        "    \"num_batches\": math.ceil(len(data_train) / 100),\n",
        "    \"epochs\": 100,\n",
        "    \"recurrent_dropout_prob\": 0.0, ## 0.0 for gpu lstm\n",
        "    \"enc_rnn_size\": 256,\n",
        "    \"dec_rnn_size\": 512,\n",
        "    \"z_size\": 128,\n",
        "    \"num_mixture\": 20,\n",
        "    \"learning_rate\": 0.001,\n",
        "    \"min_learning_rate\": 0.00001,\n",
        "    \"decay_rate\": 0.9999,\n",
        "    \"grad_clip\": 1.0,\n",
        "    'kl_tolerance': 0.2,\n",
        "    'kl_decay_rate': 0.99995,\n",
        "    \"kl_weight\": 0.5,\n",
        "    'kl_weight_start': 0.01,\n",
        "    'unconditional': False,\n",
        "}"
      ]
    },
    {
      "cell_type": "code",
      "execution_count": 38,
      "metadata": {
        "id": "pAFELjqgfBeW"
      },
      "outputs": [],
      "source": [
        "scale_factor = dataset.calc_scale_factor(data_train)\n",
        "\n",
        "train_dataset = dataset.make_train_dataset(data_train, hps['max_seq_len'], hps['batch_size'], scale_factor)\n",
        "val_dataset = dataset.make_val_dataset(data_valid, hps['max_seq_len'], hps['batch_size'], scale_factor)\n"
      ]
    },
    {
      "cell_type": "code",
      "execution_count": 39,
      "metadata": {
        "colab": {
          "base_uri": "https://localhost:8080/"
        },
        "id": "bIkiUSGLfHlP",
        "outputId": "825c5e7d-1fda-44da-dd91-42d393ee5a24"
      },
      "outputs": [
        {
          "name": "stdout",
          "output_type": "stream",
          "text": [
            "Model: \"sketchrnn\"\n",
            "__________________________________________________________________________________________________\n",
            " Layer (type)                   Output Shape         Param #     Connected to                     \n",
            "==================================================================================================\n",
            " encoder_input (InputLayer)     [(None, 105, 6)]     0           []                               \n",
            "                                                                                                  \n",
            " encoder (Functional)           [(None, 128),        669952      ['encoder_input[0][0]']          \n",
            "                                 (None, 128),                                                     \n",
            "                                 (None, 128)]                                                     \n",
            "                                                                                                  \n",
            " decoder_input (InputLayer)     [(None, None, 6)]    0           []                               \n",
            "                                                                                                  \n",
            " initial_state (Functional)     [(None, 512),        132096      ['encoder[0][0]']                \n",
            "                                 (None, 512)]                                                     \n",
            "                                                                                                  \n",
            " decoder (Functional)           [(None, None, 123),  1388155     ['decoder_input[0][0]',          \n",
            "                                 (None, 512),                     'encoder[0][0]',                \n",
            "                                 (None, 512)]                     'initial_state[0][0]',          \n",
            "                                                                  'initial_state[0][1]']          \n",
            "                                                                                                  \n",
            "==================================================================================================\n",
            "Total params: 2,190,203\n",
            "Trainable params: 2,190,203\n",
            "Non-trainable params: 0\n",
            "__________________________________________________________________________________________________\n"
          ]
        }
      ],
      "source": [
        "sketchrnn = models.SketchRNN(hps)\n",
        "sketchrnn.models['full'].summary()"
      ]
    },
    {
      "cell_type": "code",
      "execution_count": 40,
      "metadata": {
        "id": "KP2tYSYHfTXG"
      },
      "outputs": [],
      "source": [
        "checkpoint_dir = '/content/gdrive/My Drive/DL Project/checkpoints'\n",
        "log_dir = '/content/gdrive/My Drive/DL Project/logs'\n",
        "# checkpoint_dir = '/'\n",
        "\n",
        "\n",
        "!mkdir -p \"{log_dir}\" \"{checkpoint_dir}\"\n",
        "\n",
        "initial_epoch =  0#@param {type: \"number\"}\n",
        "initial_loss = 0.43 #@param {type: \"number\"}\n",
        "checkpoint = os.path.join(checkpoint_dir, 'sketch_rnn_' + data_class + '_weights.{:02d}_{:.2f}.hdf5')\n",
        "\n",
        "if initial_epoch > 0:\n",
        "  sketchrnn.load_weights(checkpoint.format(initial_epoch, initial_loss))"
      ]
    },
    {
      "cell_type": "code",
      "execution_count": null,
      "metadata": {
        "id": "HotTxmAOfdzq"
      },
      "outputs": [],
      "source": [
        "# Model is already trained. Uncomment to train another\n",
        "# sketchrnn.train(initial_epoch, train_dataset, val_dataset, checkpoint)"
      ]
    },
    {
      "cell_type": "code",
      "execution_count": 41,
      "metadata": {
        "id": "4OkuftqWMz8i"
      },
      "outputs": [],
      "source": [
        "qual_hps = {\n",
        "    \"max_seq_len\": max(map(len, np.concatenate([data['train'], data['valid'], data['test']]))),\n",
        "    'batch_size': 100,\n",
        "    \"num_batches\": math.ceil(len(data_train) / 100),\n",
        "    \"epochs\": 100,\n",
        "    \"recurrent_dropout_prob\": 0.0, ## 0.0 for gpu lstm\n",
        "    \"enc_rnn_size\": 256,\n",
        "    \"dec_rnn_size\": 1024,\n",
        "    \"z_size\": 128,\n",
        "    \"num_mixture\": 20,\n",
        "    \"learning_rate\": 0.001,\n",
        "    \"min_learning_rate\": 0.00001,\n",
        "    \"decay_rate\": 0.9999,\n",
        "    \"grad_clip\": 1.0,\n",
        "    'kl_tolerance': 0.2,\n",
        "    'kl_decay_rate': 0.99995,\n",
        "    \"kl_weight\": 0.5,\n",
        "    'kl_weight_start': 0.01,\n",
        "    'unconditional': False,\n",
        "}"
      ]
    },
    {
      "cell_type": "code",
      "execution_count": 42,
      "metadata": {
        "id": "Hlw-JK6ONnuS"
      },
      "outputs": [],
      "source": [
        "import sys\n",
        "import os\n",
        "import numpy as np\n",
        "import matplotlib as mpl\n",
        "import matplotlib.pyplot as plt\n",
        "from urllib.request import urlretrieve\n",
        "from sklearn.preprocessing import minmax_scale\n",
        "from IPython.display import clear_output\n",
        "from matplotlib.path import Path\n",
        "from matplotlib.patches import PathPatch\n",
        "\n",
        "def make_mpl_path(strokes, square=False, offset=(0, 0), force_aspect=0):\n",
        "    vertices = strokes[:, :-1].cumsum(axis=0, dtype=np.float32) * -1\n",
        "    if len(vertices) > 0:\n",
        "      if square:\n",
        "        (minx, miny), (maxx, maxy) = vertices.min(0), vertices.max(0)\n",
        "        aspect = (maxy - miny) / (maxx - minx)\n",
        "\n",
        "        vertices = minmax_scale(vertices, (-1, 1), axis=0)\n",
        "\n",
        "        if aspect < 1:\n",
        "            vertices[:, 1] *= aspect\n",
        "        else:\n",
        "            vertices[:, 0] *= aspect\n",
        "      vertices[:, 0] += offset[0]\n",
        "      vertices[:, 1] += offset[1] \n",
        "\n",
        "        \n",
        "      \n",
        "    codes = np.roll(Path.LINETO - strokes[:, -1], 1).astype(int)\n",
        "    return Path(vertices, codes)\n",
        "\n",
        "def plot_strokes(ax, strokes, ec=\"black\", no_ticks=True, offset=(0, 0)):\n",
        "    patch = ax.add_patch(PathPatch(make_mpl_path(strokes, offset=offset), lw=1, ec=ec, fc=\"none\"))\n",
        "    if no_ticks:\n",
        "        ax.set(xticks=[], yticks=[], frame_on=False)\n",
        "    else:\n",
        "        ax.set(frame_on=False)\n",
        "    ax.axis(\"equal\")\n",
        "    return patch"
      ]
    },
    {
      "cell_type": "code",
      "execution_count": 49,
      "metadata": {
        "colab": {
          "base_uri": "https://localhost:8080/"
        },
        "id": "Ngbe0nHrUd07",
        "outputId": "67a4a7a5-cf7d-4523-e923-8adeb0711347"
      },
      "outputs": [
        {
          "name": "stdout",
          "output_type": "stream",
          "text": [
            "['butterfly', 'bus']\n",
            "[0.5       0.7800558]\n",
            "[(41.89099967479706, 55.43198585510254), (40.55229127407074, 50.89452266693115)]\n"
          ]
        }
      ],
      "source": [
        "# Predict the objects in the sentence and generate object and aspect ratio boxes for them\n",
        "boxes, labels = predict(transformer, \"butterfly next to bus\")\n",
        "mask = labels != 'no object'\n",
        "objects = list(map(lambda x: x.split(\".\")[0], labels[mask]))\n",
        "aspects = list(map(lambda x: abs(x[0]-x[2])/abs(x[1]-x[3]), boxes[mask]))\n",
        "toplefts = list(map(lambda x: (x[1]*100, x[0]*100), boxes[mask]))\n",
        "aspects = np.clip(aspects, 0.5, 1.5)\n",
        "print(objects)\n",
        "print(aspects)\n",
        "print(toplefts)"
      ]
    },
    {
      "cell_type": "code",
      "execution_count": null,
      "metadata": {
        "id": "UwIqyVawM2wj"
      },
      "outputs": [],
      "source": [
        "obj1 = models.SketchRNN(hps)\n",
        "obj2 = models.SketchRNN(hps)\n",
        "\n",
        "\n",
        "\n",
        "obj1.load_weights(\"/content/drive/MyDrive/DL Project/trained_weights/sketch_rnn_bus_weights.100_-0.29.hdf5\")\n",
        "obj2.load_weights(\"/content/drive/MyDrive/DL Project/trained_weights/sketch_rnn_dog_weights.100_0.45.hdf5\")"
      ]
    },
    {
      "cell_type": "markdown",
      "metadata": {},
      "source": [
        "The code below generates scenes from our objects using the bounding boxes and aspect ratios provided by our scene composer"
      ]
    },
    {
      "cell_type": "code",
      "execution_count": null,
      "metadata": {
        "id": "XsIkfZ9oMuUz"
      },
      "outputs": [],
      "source": [
        "\n",
        "n=(2, 2)\n",
        "fig, ax = plt.subplots(n[0], n[1])\n",
        "\n",
        "# Draw each object at its generated aspect ratio and offset\n",
        "for i in range(n[0]*n[1]):\n",
        "  strokes1 = obj1.sample(0.0000001, aspect=aspects[0])\n",
        "  strokes2 = obj2.sample(0.000001, aspect=aspects[1])\n",
        "  x, y = i // n[1], i % n[1]\n",
        "  ax[x][y].set_xlim(0, 100)\n",
        "  ax[x][y].set_ylim(0, 100)\n",
        "  plot_strokes(ax[x][y], utils.to_normal_strokes(strokes1), offset=toplefts[0])\n",
        "  plot_strokes(ax[x][y], utils.to_normal_strokes(strokes2), offset=toplefts[1])\n",
        "\n",
        "utils.plt_show()"
      ]
    },
    {
      "cell_type": "markdown",
      "metadata": {},
      "source": [
        "We need to generate model + human drawn image sets to measure our performance! The code below does that"
      ]
    },
    {
      "cell_type": "code",
      "execution_count": null,
      "metadata": {
        "id": "LDfKYc0G7nGw"
      },
      "outputs": [],
      "source": [
        "obj2 = models.SketchRNN(qual_hps)\n",
        "obj2.load_weights(\"/content/drive/MyDrive/DL Project/trained_weights/sketch_rnn_butterfly_weights.18_0.11.hdf5\")\n",
        "\n",
        "n=(4, 5)\n",
        "fig, ax = plt.subplots(n[0], n[1])\n",
        "perm = np.random.permutation(range(len(data_train)))[:n[0]*n[1]]\n",
        "\n",
        "# Draw each object at its generated aspect ratio and offset\n",
        "for i in range(n[0]*n[1]):\n",
        "  x, y = i // n[1], i % n[1]\n",
        "  ax[x][y].set_xlim(0, 100)\n",
        "  ax[x][y].set_ylim(0, 100)\n",
        "  ax[x][y].set(xlabel=i)\n",
        "  if i % 2 == 0:  \n",
        "    strokes1 = obj2.sample(0.0001, aspect=1)\n",
        "    plot_strokes(ax[x][y], utils.to_normal_strokes(strokes1), offset=toplefts[0])\n",
        "  else:\n",
        "    utils.plot_strokes(ax[x][y], data_train[perm[i]])\n",
        "utils.plt_show()"
      ]
    }
  ],
  "metadata": {
    "colab": {
      "collapsed_sections": [],
      "name": "DLFinalProject.ipynb",
      "provenance": []
    },
    "kernelspec": {
      "display_name": "Python 3",
      "name": "python3"
    },
    "language_info": {
      "name": "python"
    }
  },
  "nbformat": 4,
  "nbformat_minor": 0
}
